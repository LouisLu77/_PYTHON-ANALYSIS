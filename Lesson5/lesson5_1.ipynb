{
 "cells": [
  {
   "cell_type": "code",
   "execution_count": 1,
   "id": "e1a8b685",
   "metadata": {},
   "outputs": [
    {
     "name": "stdout",
     "output_type": "stream",
     "text": [
      "熊\n"
     ]
    }
   ],
   "source": [
    "furry:bool = True\n",
    "small:bool = False\n",
    "\n",
    "if furry:\n",
    "    if small:\n",
    "        print(\"貓\")\n",
    "    else:\n",
    "        print(\"熊\")\n",
    "else:\n",
    "    if small:\n",
    "        print(\"小蜥蜴\")\n",
    "    else:\n",
    "        print(\"人類\")"
   ]
  },
  {
   "cell_type": "code",
   "execution_count": 2,
   "id": "71eefd03",
   "metadata": {},
   "outputs": [
    {
     "name": "stdout",
     "output_type": "stream",
     "text": [
      "學生等級:不及格\n"
     ]
    }
   ],
   "source": [
    "score:int = int(input(\"請輸入學生分數:\"))\n",
    "if score >= 80:\n",
    "    grade:str = '優'\n",
    "else:\n",
    "    #小於80\n",
    "    if score >= 60:\n",
    "        #小於80同時大於等於60\n",
    "        grade:str = '及格'\n",
    "    else:\n",
    "        grade:str = '不及格'\n",
    "\n",
    "print(f\"學生等級:{grade}\")"
   ]
  },
  {
   "cell_type": "code",
   "execution_count": 3,
   "id": "44999062",
   "metadata": {},
   "outputs": [
    {
     "name": "stdout",
     "output_type": "stream",
     "text": [
      "學生等級:不及格\n"
     ]
    }
   ],
   "source": [
    "score:int = int(input(\"請輸入學生分數:\"))\n",
    "if score >= 80:\n",
    "    grade:str = '優'\n",
    "elif score >= 60:        \n",
    "    grade:str = '及格'\n",
    "else:\n",
    "    grade:str = '不及格'\n",
    "\n",
    "print(f\"學生等級:{grade}\")"
   ]
  },
  {
   "cell_type": "code",
   "execution_count": 5,
   "id": "59dceba4",
   "metadata": {},
   "outputs": [
    {
     "name": "stdout",
     "output_type": "stream",
     "text": [
      "學生等級:丙\n"
     ]
    }
   ],
   "source": [
    "score:int = int(input(\"請輸入學生分數:\"))\n",
    "if score >= 90:\n",
    "    grade:str = '優'\n",
    "elif score >= 80:        \n",
    "    grade:str = '甲'\n",
    "elif score >= 70:\n",
    "    grade:str = '乙'\n",
    "elif score >= 60:\n",
    "    grade:str = '丙'\n",
    "else:\n",
    "    grade:str = '丁'\n",
    "print(f\"學生等級:{grade}\")"
   ]
  },
  {
   "cell_type": "code",
   "execution_count": null,
   "id": "708e117d",
   "metadata": {},
   "outputs": [
    {
     "name": "stdout",
     "output_type": "stream",
     "text": [
      "實付金額是:1395.9\n"
     ]
    }
   ],
   "source": [
    "money:int = int(input(\"請輸入購買金額:\"))\n",
    "if money < 10000:\n",
    "    pay_money:int = money*0.9\n",
    "print(f\"實付金額是:{pay_money}\")"
   ]
  },
  {
   "cell_type": "code",
   "execution_count": 4,
   "id": "d7ad1fe0",
   "metadata": {},
   "outputs": [
    {
     "name": "stdout",
     "output_type": "stream",
     "text": [
      "獎金:500\n"
     ]
    }
   ],
   "source": [
    "# 國文100同時數學100,獎金1000\n",
    "# 只有一科100分,獎金500\n",
    "chinese = int(input(\"請輸入國文分數\"))\n",
    "math = int(input(\"請輸入數學分數\"))\n",
    "#巢狀判斷\n",
    "bonus = 0\n",
    "if chinese == 100:\n",
    "    if math == 100:\n",
    "        bonus = 1000\n",
    "    else:\n",
    "        bonus = 500\n",
    "elif math == 100:\n",
    "    bonus = 500\n",
    "\n",
    "print(f\"獎金:{bonus}\")"
   ]
  },
  {
   "cell_type": "code",
   "execution_count": 6,
   "id": "7163704b",
   "metadata": {},
   "outputs": [
    {
     "name": "stdout",
     "output_type": "stream",
     "text": [
      "獎金:0\n"
     ]
    }
   ],
   "source": [
    "# 國文100同時數學100,獎金1000\n",
    "# 只有一科100分,獎金500\n",
    "chinese = int(input(\"請輸入國文分數\"))\n",
    "math = int(input(\"請輸入數學分數\"))\n",
    "#邏輯運算子\n",
    "bonus = 0\n",
    "if chinese == 100 and math == 100:\n",
    "    bonus = 1000\n",
    "elif chinese == 100 or math == 100:\n",
    "    bonus = 500\n",
    "\n",
    "print(f\"獎金:{bonus}\")"
   ]
  },
  {
   "cell_type": "code",
   "execution_count": 9,
   "id": "dad3b4af",
   "metadata": {},
   "outputs": [
    {
     "name": "stdout",
     "output_type": "stream",
     "text": [
      "不可以考駕照\n"
     ]
    }
   ],
   "source": [
    "age = int(input(\"請輸入age:\"))\n",
    "if age < 18:\n",
    "    print(\"不可以考駕照\")\n",
    "else:\n",
    "    print(\"可以考駕照\")"
   ]
  },
  {
   "cell_type": "code",
   "execution_count": 10,
   "id": "5710c5b8",
   "metadata": {},
   "outputs": [
    {
     "name": "stdout",
     "output_type": "stream",
     "text": [
      "不可以考駕照\n"
     ]
    }
   ],
   "source": [
    "age = int(input(\"請輸入age:\"))\n",
    "if not age < 18:\n",
    "    print(\"可以考駕照\")\n",
    "else:\n",
    "    print(\"不可以考駕照\")"
   ]
  },
  {
   "cell_type": "code",
   "execution_count": 11,
   "id": "063f9637",
   "metadata": {},
   "outputs": [
    {
     "name": "stdout",
     "output_type": "stream",
     "text": [
      "1\n",
      "3\n",
      "5\n",
      "7\n",
      "9\n"
     ]
    }
   ],
   "source": [
    "for ele in range(1, 11, 2):\n",
    "    print(ele)"
   ]
  },
  {
   "cell_type": "code",
   "execution_count": 18,
   "id": "65367227",
   "metadata": {},
   "outputs": [
    {
     "name": "stdout",
     "output_type": "stream",
     "text": [
      "500000500000\n"
     ]
    }
   ],
   "source": [
    "total = 0\n",
    "for i in range(1,1000001):\n",
    "    total +=  i\n",
    "print(total)"
   ]
  },
  {
   "cell_type": "code",
   "execution_count": 1,
   "id": "6e15dce0",
   "metadata": {},
   "outputs": [
    {
     "name": "stdout",
     "output_type": "stream",
     "text": [
      "很重要\n",
      "很重要\n",
      "很重要\n"
     ]
    }
   ],
   "source": [
    "for _ in range(3):\n",
    "    print(\"很重要\")"
   ]
  },
  {
   "cell_type": "code",
   "execution_count": 3,
   "id": "2f060ef8",
   "metadata": {},
   "outputs": [
    {
     "name": "stdout",
     "output_type": "stream",
     "text": [
      "重\n",
      "要\n"
     ]
    }
   ],
   "source": [
    "for word in '重要':\n",
    "    print(word)"
   ]
  },
  {
   "cell_type": "code",
   "execution_count": null,
   "id": "1e5c21a5",
   "metadata": {},
   "outputs": [
    {
     "name": "stdout",
     "output_type": "stream",
     "text": [
      "[{'name': '小華', 'chinese': 90, 'english': 88, 'math': 95}, {'name': '小麗', 'chinese': 95, 'english': 89, 'math': 93}]\n"
     ]
    }
   ],
   "source": [
    "    students = [\n",
    "        {\"name\": \"小明\", \"chinese\": 85, \"english\": 92, \"math\": 78},\n",
    "        {\"name\": \"小華\", \"chinese\": 90, \"english\": 88, \"math\": 95},\n",
    "        {\"name\": \"小美\", \"chinese\": 79, \"english\": 85, \"math\": 90},\n",
    "        {\"name\": \"小強\", \"chinese\": 88, \"english\": 92, \"math\": 87},\n",
    "        {\"name\": \"小麗\", \"chinese\": 95, \"english\": 89, \"math\": 93}\n",
    "    ]\n",
    "\n",
    "    # 取出國文分數>=90分的學生\n",
    "    result = list(filter(lambda s: s[\"chinese\"] >= 90, students))\n",
    "\n",
    "    print(result)"
   ]
  }
 ],
 "metadata": {
  "kernelspec": {
   "display_name": "base",
   "language": "python",
   "name": "python3"
  },
  "language_info": {
   "codemirror_mode": {
    "name": "ipython",
    "version": 3
   },
   "file_extension": ".py",
   "mimetype": "text/x-python",
   "name": "python",
   "nbconvert_exporter": "python",
   "pygments_lexer": "ipython3",
   "version": "3.12.7"
  }
 },
 "nbformat": 4,
 "nbformat_minor": 5
}
