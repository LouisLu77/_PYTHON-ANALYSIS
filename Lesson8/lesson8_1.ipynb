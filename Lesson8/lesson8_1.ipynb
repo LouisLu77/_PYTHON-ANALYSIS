{
 "cells": [
  {
   "cell_type": "markdown",
   "id": "eb33e125",
   "metadata": {},
   "source": [
    "如何呼叫function"
   ]
  },
  {
   "cell_type": "code",
   "execution_count": 2,
   "id": "ada659be",
   "metadata": {},
   "outputs": [],
   "source": [
    "def menu(wine:str, entree:str, dessert:str):\n",
    "    print(f\"前酒:{wine}\")\n",
    "    print(f\"主菜:{entree}\")\n",
    "    print(f\"甜點:{dessert}\")"
   ]
  },
  {
   "cell_type": "markdown",
   "id": "2b6b1f23",
   "metadata": {},
   "source": [
    "引數值的呼叫(依照參數的順序)"
   ]
  },
  {
   "cell_type": "code",
   "execution_count": 3,
   "id": "90d46886",
   "metadata": {},
   "outputs": [
    {
     "name": "stdout",
     "output_type": "stream",
     "text": [
      "前酒:白酒\n",
      "主菜:雞排\n",
      "甜點:蛋糕\n"
     ]
    }
   ],
   "source": [
    "menu('白酒','雞排','蛋糕')"
   ]
  },
  {
   "cell_type": "markdown",
   "id": "e45ad091",
   "metadata": {},
   "source": [
    "引數名稱的呼叫(可以不依照順序)"
   ]
  },
  {
   "cell_type": "code",
   "execution_count": 4,
   "id": "a78b660d",
   "metadata": {},
   "outputs": [
    {
     "name": "stdout",
     "output_type": "stream",
     "text": [
      "前酒:白酒\n",
      "主菜:雞排\n",
      "甜點:蛋糕\n",
      "前酒:白酒\n",
      "主菜:雞排\n",
      "甜點:蛋糕\n"
     ]
    }
   ],
   "source": [
    "menu(wine='白酒',entree='雞排',dessert='蛋糕')\n",
    "menu(wine='白酒',dessert='蛋糕',entree='雞排')"
   ]
  },
  {
   "cell_type": "markdown",
   "id": "db544ea0",
   "metadata": {},
   "source": [
    "前面要引數值呼叫\n",
    "後面要引數名稱的呼叫\n",
    "引數名稱呼叫後,就全部要使用引數名稱\n"
   ]
  },
  {
   "cell_type": "code",
   "execution_count": null,
   "id": "aa45726e",
   "metadata": {},
   "outputs": [],
   "source": []
  },
  {
   "cell_type": "code",
   "execution_count": 5,
   "id": "477871b7",
   "metadata": {},
   "outputs": [
    {
     "name": "stdout",
     "output_type": "stream",
     "text": [
      "前酒:白酒\n",
      "主菜:雞排\n",
      "甜點:蛋糕\n",
      "前酒:白酒\n",
      "主菜:雞排\n",
      "甜點:蛋糕\n"
     ]
    }
   ],
   "source": [
    "menu('白酒',entree='雞排',dessert='蛋糕')\n",
    "menu('白酒',dessert='蛋糕',entree='雞排')\n"
   ]
  },
  {
   "cell_type": "code",
   "execution_count": null,
   "id": "184f82bd",
   "metadata": {},
   "outputs": [],
   "source": []
  },
  {
   "cell_type": "markdown",
   "id": "3d08cbf5",
   "metadata": {},
   "source": [
    "參數有預設值\n",
    "有預設值的參數,一定要放在最後面\n",
    "呼叫的方式變多了"
   ]
  },
  {
   "cell_type": "code",
   "execution_count": 6,
   "id": "d56f3538",
   "metadata": {},
   "outputs": [],
   "source": [
    "\n",
    "def menu(wine:str, entree:str, dessert:str='奶昔'):\n",
    "    print(f\"前酒:{wine}\")\n",
    "    print(f\"主菜:{entree}\")\n",
    "    print(f\"甜點:{dessert}\")"
   ]
  },
  {
   "cell_type": "code",
   "execution_count": 7,
   "id": "d2e86b65",
   "metadata": {},
   "outputs": [
    {
     "name": "stdout",
     "output_type": "stream",
     "text": [
      "前酒:白酒\n",
      "主菜:雞排\n",
      "甜點:奶昔\n"
     ]
    }
   ],
   "source": [
    "menu('白酒',entree='雞排')"
   ]
  },
  {
   "cell_type": "code",
   "execution_count": 8,
   "id": "7d17f30a",
   "metadata": {},
   "outputs": [
    {
     "name": "stdout",
     "output_type": "stream",
     "text": [
      "前酒:白酒\n",
      "主菜:雞排\n",
      "甜點:蛋糕\n"
     ]
    }
   ],
   "source": [
    "menu('白酒',dessert='蛋糕',entree='雞排')\n"
   ]
  },
  {
   "cell_type": "code",
   "execution_count": 9,
   "id": "ebca9622",
   "metadata": {},
   "outputs": [
    {
     "name": "stdout",
     "output_type": "stream",
     "text": [
      "(1, 2, 3, 'a', 'b', 'c')\n"
     ]
    }
   ],
   "source": [
    "def print_args(*args):\n",
    "   print(args)\n",
    "\n",
    "print_args(1, 2, 3, 'a', 'b', 'c')\n"
   ]
  },
  {
   "cell_type": "code",
   "execution_count": 10,
   "id": "7d303052",
   "metadata": {},
   "outputs": [
    {
     "name": "stdout",
     "output_type": "stream",
     "text": [
      "{'one': 1, 'two': 2, 'three': 3, 'four': 4}\n"
     ]
    }
   ],
   "source": [
    "def print_kwargs(**kwargs):\n",
    "   print(kwargs)\n",
    "\n",
    "\n",
    "print_kwargs(one=1, two=2, three=3, four=4)\n"
   ]
  },
  {
   "cell_type": "code",
   "execution_count": 11,
   "id": "6661d120",
   "metadata": {},
   "outputs": [
    {
     "name": "stdout",
     "output_type": "stream",
     "text": [
      "(1, 2, 3, 'a', 'b', 'c')\n",
      "{'one': 1, 'two': 2, 'three': 3, 'four': 4}\n"
     ]
    }
   ],
   "source": [
    "def print_all(*args,**kwargs):\n",
    "    print(args)\n",
    "    print(kwargs)\n",
    "\n",
    "print_all(1, 2, 3, 'a', 'b', 'c',one=1,two=2,three=3, four=4)\n"
   ]
  },
  {
   "cell_type": "code",
   "execution_count": 12,
   "id": "4a59dc76",
   "metadata": {},
   "outputs": [
    {
     "name": "stdout",
     "output_type": "stream",
     "text": [
      "1 2 3 4 5\n",
      "\n",
      "1-2-3-4-5\n",
      "1-2-3-4-5.\n"
     ]
    }
   ],
   "source": [
    "print(1, 2, 3, 4, 5)\n",
    "print()\n",
    "print(1, 2, 3, 4, 5,sep='-')\n",
    "print(1, 2, 3, 4, 5,end='.\\n',sep='-')\n"
   ]
  },
  {
   "cell_type": "code",
   "execution_count": 13,
   "id": "e5481813",
   "metadata": {},
   "outputs": [
    {
     "data": {
      "text/plain": [
       "1"
      ]
     },
     "execution_count": 13,
     "metadata": {},
     "output_type": "execute_result"
    }
   ],
   "source": [
    "min((1, 2, 3, 4, 5))\n",
    "\n",
    "min(1, 2, 3, 4, 5)"
   ]
  },
  {
   "cell_type": "code",
   "execution_count": 14,
   "id": "5e6689aa",
   "metadata": {},
   "outputs": [],
   "source": [
    "name:str = \"徐國堂\"\n",
    "chinese:int = 96\n",
    "english:int = 85\n",
    "math:int = 95\n"
   ]
  },
  {
   "cell_type": "code",
   "execution_count": 15,
   "id": "c63df24d",
   "metadata": {},
   "outputs": [
    {
     "data": {
      "text/plain": [
       "{'name': '徐國堂', 'chinese': 96, 'english': 85, 'math': 95}"
      ]
     },
     "execution_count": 15,
     "metadata": {},
     "output_type": "execute_result"
    }
   ],
   "source": [
    "student:dict = {'name':\"徐國堂\",\n",
    "                'chinese':96,\n",
    "                'english': 85,\n",
    "                'math': 95}\n",
    "\n",
    "student"
   ]
  },
  {
   "cell_type": "code",
   "execution_count": 16,
   "id": "8b42fba4",
   "metadata": {},
   "outputs": [
    {
     "data": {
      "text/plain": [
       "96"
      ]
     },
     "execution_count": 16,
     "metadata": {},
     "output_type": "execute_result"
    }
   ],
   "source": [
    "student['name']\n",
    "student['chinese']\n"
   ]
  },
  {
   "cell_type": "code",
   "execution_count": null,
   "id": "290ac0e5",
   "metadata": {},
   "outputs": [],
   "source": [
    "student['chinese'] = 90\n",
    "student['chinese']\n"
   ]
  },
  {
   "cell_type": "code",
   "execution_count": 17,
   "id": "d96dc830",
   "metadata": {},
   "outputs": [
    {
     "data": {
      "text/plain": [
       "{'name': '徐國堂', 'chinese': 96, 'english': 85, 'math': 95, 'history': 84}"
      ]
     },
     "execution_count": 17,
     "metadata": {},
     "output_type": "execute_result"
    }
   ],
   "source": [
    "#新增key\n",
    "student['history'] = 84\n",
    "student"
   ]
  },
  {
   "cell_type": "code",
   "execution_count": 1,
   "id": "309e9188",
   "metadata": {},
   "outputs": [
    {
     "data": {
      "text/plain": [
       "[10, 20, 30, 40, 50, 60, 70, 80, 90, 100]"
      ]
     },
     "execution_count": 1,
     "metadata": {},
     "output_type": "execute_result"
    }
   ],
   "source": [
    "nums:list[int] = [10, 20, 30, 40, 50, 60, 70, 80, 90, 100]\n",
    "nums\n"
   ]
  },
  {
   "cell_type": "code",
   "execution_count": 2,
   "id": "f79a57f2",
   "metadata": {},
   "outputs": [
    {
     "data": {
      "text/plain": [
       "100"
      ]
     },
     "execution_count": 2,
     "metadata": {},
     "output_type": "execute_result"
    }
   ],
   "source": [
    "#取出元素\n",
    "nums[0]\n",
    "nums[1]\n",
    "nums[9]\n",
    "nums[-1]\n"
   ]
  },
  {
   "cell_type": "code",
   "execution_count": 3,
   "id": "6560d013",
   "metadata": {},
   "outputs": [
    {
     "data": {
      "text/plain": [
       "[60, 70, 80, 90, 100]"
      ]
     },
     "execution_count": 3,
     "metadata": {},
     "output_type": "execute_result"
    }
   ],
   "source": [
    "nums[0:5]\n",
    "nums[3:5]\n",
    "nums[:5] #前5個\n",
    "nums[-5:] #最後5個"
   ]
  },
  {
   "cell_type": "code",
   "execution_count": 4,
   "id": "f499fd1f",
   "metadata": {},
   "outputs": [
    {
     "name": "stdout",
     "output_type": "stream",
     "text": [
      "10 20 30 40 50 60 70 80 90 100 "
     ]
    }
   ],
   "source": [
    "#list是串列資料,代表可以iterable\n",
    "for i in nums:\n",
    "    print(i,end=' ')"
   ]
  },
  {
   "cell_type": "markdown",
   "id": "7069ecd6",
   "metadata": {},
   "source": [
    "function的參數,可以要求是一個function"
   ]
  },
  {
   "cell_type": "code",
   "execution_count": 5,
   "id": "19009f01",
   "metadata": {},
   "outputs": [
    {
     "data": {
      "text/plain": [
       "[1, 3, 5, 7, 9]"
      ]
     },
     "execution_count": 5,
     "metadata": {},
     "output_type": "execute_result"
    }
   ],
   "source": [
    "numbers:list[int] = [1, 2, 3, 4, 5, 6, 7, 8, 9, 10]\n",
    "\n",
    "def is_odd(n):\n",
    "    if n % 2 == 1:\n",
    "        return True\n",
    "    else:\n",
    "        return False\n",
    "#取出奇數值\n",
    "list(filter(is_odd,numbers))"
   ]
  },
  {
   "cell_type": "code",
   "execution_count": 6,
   "id": "6a8b4ab0",
   "metadata": {},
   "outputs": [
    {
     "data": {
      "text/plain": [
       "[1, 3, 5, 7, 9]"
      ]
     },
     "execution_count": 6,
     "metadata": {},
     "output_type": "execute_result"
    }
   ],
   "source": [
    "numbers:list[int] = [1, 2, 3, 4, 5, 6, 7, 8, 9, 10]\n",
    "\n",
    "def is_odd(n):\n",
    "    return n % 2 == 1\n",
    "    \n",
    "#取出奇數值\n",
    "list(filter(is_odd,numbers))\n"
   ]
  },
  {
   "cell_type": "code",
   "execution_count": 7,
   "id": "fd26e93a",
   "metadata": {},
   "outputs": [
    {
     "data": {
      "text/plain": [
       "[1, 3, 5, 7, 9]"
      ]
     },
     "execution_count": 7,
     "metadata": {},
     "output_type": "execute_result"
    }
   ],
   "source": [
    "numbers:list[int] = [1, 2, 3, 4, 5, 6, 7, 8, 9, 10]\n",
    "\n",
    "    \n",
    "#取出奇數值\n",
    "list(filter(lambda n:n % 2 == 1,numbers))"
   ]
  },
  {
   "cell_type": "code",
   "execution_count": 8,
   "id": "8ea749fc",
   "metadata": {},
   "outputs": [],
   "source": [
    "\n",
    "#1班有5個學生,每個學生有4個資料\n",
    "students:list[dict] = [\n",
    "    {\"name\": \"小明\", \"chinese\": 85, \"english\": 92, \"math\": 78},\n",
    "    {\"name\": \"小華\", \"chinese\": 90, \"english\": 88, \"math\": 95},\n",
    "    {\"name\": \"小美\", \"chinese\": 79, \"english\": 85, \"math\": 90},\n",
    "    {\"name\": \"小強\", \"chinese\": 88, \"english\": 92, \"math\": 87},\n",
    "    {\"name\": \"小麗\", \"chinese\": 95, \"english\": 89, \"math\": 93}\n",
    "]\n",
    "\n"
   ]
  },
  {
   "cell_type": "code",
   "execution_count": 9,
   "id": "4db0d75c",
   "metadata": {},
   "outputs": [
    {
     "name": "stdout",
     "output_type": "stream",
     "text": [
      "小明\n",
      "國文:85\n",
      "英文:92\n",
      "數學:78\n",
      "===============\n",
      "小華\n",
      "國文:90\n",
      "英文:88\n",
      "數學:95\n",
      "===============\n",
      "小美\n",
      "國文:79\n",
      "英文:85\n",
      "數學:90\n",
      "===============\n",
      "小強\n",
      "國文:88\n",
      "英文:92\n",
      "數學:87\n",
      "===============\n",
      "小麗\n",
      "國文:95\n",
      "英文:89\n",
      "數學:93\n",
      "===============\n"
     ]
    }
   ],
   "source": [
    "\n",
    "for student in students:\n",
    "    print(student['name'])\n",
    "    print(f'國文:{student['chinese']}')\n",
    "    print(f'英文:{student['english']}')\n",
    "    print(f'數學:{student['math']}')\n",
    "    \n",
    "    print(\"===============\")\n"
   ]
  }
 ],
 "metadata": {
  "kernelspec": {
   "display_name": "base",
   "language": "python",
   "name": "python3"
  },
  "language_info": {
   "codemirror_mode": {
    "name": "ipython",
    "version": 3
   },
   "file_extension": ".py",
   "mimetype": "text/x-python",
   "name": "python",
   "nbconvert_exporter": "python",
   "pygments_lexer": "ipython3",
   "version": "3.12.7"
  }
 },
 "nbformat": 4,
 "nbformat_minor": 5
}
